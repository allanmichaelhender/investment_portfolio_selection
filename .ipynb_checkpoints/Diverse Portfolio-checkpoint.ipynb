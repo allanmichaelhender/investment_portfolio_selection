{
 "cells": [
  {
   "cell_type": "markdown",
   "id": "6afb0aa6-1ed9-4e53-a904-1039089f4f13",
   "metadata": {},
   "source": [
    "## Exploring and analysing our diverse porfolio data\n",
    "\n",
    "### Introduction\n",
    "In this notebook we will import our data, we are using from 3 indices alongside the Bank of England base rate.\n",
    "\n",
    "Our Indices include: iShares MCSI World Index (GBP Hedged Acc), S&P 500 (GBP Hedged Acc) and Vanguard's Global Bond Index (GBP Hedged Acc)\n",
    "\n",
    "We will simulate investing into equities, bonds and cash using these options."
   ]
  },
  {
   "cell_type": "markdown",
   "id": "8832626b-8206-4636-bcb2-f065b1b4dc31",
   "metadata": {},
   "source": [
    "### Importing Libraries and our data"
   ]
  },
  {
   "cell_type": "code",
   "execution_count": 1,
   "id": "1afb260e-cd6d-41aa-964a-3f4bb00e0230",
   "metadata": {},
   "outputs": [],
   "source": [
    "#Import libraries\n",
    "import pandas as pd\n",
    "import numpy as np\n",
    "import yfinance as yf\n",
    "from datetime import datetime\n",
    "import matplotlib.pyplot as plt"
   ]
  },
  {
   "cell_type": "code",
   "execution_count": 2,
   "id": "d65c4b93-f34c-4660-a1b6-e3fa537496d0",
   "metadata": {},
   "outputs": [
    {
     "name": "stderr",
     "output_type": "stream",
     "text": [
      "C:\\Users\\allan\\AppData\\Local\\Temp\\ipykernel_10764\\807073608.py:2: UserWarning: Could not infer format, so each element will be parsed individually, falling back to `dateutil`. To ensure parsing is consistent and as-expected, please specify a format.\n",
      "  iShares_World = pd.read_csv(\"Data//iShares MCSI World Index Data.csv\", index_col=0, parse_dates=True, dayfirst=True)\n",
      "C:\\Users\\allan\\AppData\\Local\\Temp\\ipykernel_10764\\807073608.py:3: UserWarning: Could not infer format, so each element will be parsed individually, falling back to `dateutil`. To ensure parsing is consistent and as-expected, please specify a format.\n",
      "  iShares_SNP500 = pd.read_csv(\"Data//iShares SNP500 Index Data.csv\", index_col=0, parse_dates=True, dayfirst=True)\n",
      "C:\\Users\\allan\\AppData\\Local\\Temp\\ipykernel_10764\\807073608.py:4: UserWarning: Could not infer format, so each element will be parsed individually, falling back to `dateutil`. To ensure parsing is consistent and as-expected, please specify a format.\n",
      "  Vanguard_Global_Bond = pd.read_csv(\"Data//Vanguard Global Bond Data.csv\",index_col=0, parse_dates=True, dayfirst=True)\n",
      "C:\\Users\\allan\\AppData\\Local\\Temp\\ipykernel_10764\\807073608.py:5: UserWarning: Could not infer format, so each element will be parsed individually, falling back to `dateutil`. To ensure parsing is consistent and as-expected, please specify a format.\n",
      "  BoE_Rate = pd.read_csv(\"Data//BoE Interest Rate Data.csv\", index_col=0, parse_dates=True, dayfirst=True)\n"
     ]
    }
   ],
   "source": [
    "#Parsing Data for csv files\n",
    "iShares_World = pd.read_csv(\"Data//iShares MCSI World Index Data.csv\", index_col=0, parse_dates=True, dayfirst=True)\n",
    "iShares_SNP500 = pd.read_csv(\"Data//iShares SNP500 Index Data.csv\", index_col=0, parse_dates=True, dayfirst=True)\n",
    "Vanguard_Global_Bond = pd.read_csv(\"Data//Vanguard Global Bond Data.csv\",index_col=0, parse_dates=True, dayfirst=True)\n",
    "BoE_Rate = pd.read_csv(\"Data//BoE Interest Rate Data.csv\", index_col=0, parse_dates=True, dayfirst=True)"
   ]
  },
  {
   "cell_type": "markdown",
   "id": "34bcc8d9-f8ee-4738-b83a-f804be0b3319",
   "metadata": {},
   "source": [
    "### Combining our data into a single DataFrame\n",
    "Before simulating our investment we need to collate all the data into a single dataset"
   ]
  },
  {
   "cell_type": "code",
   "execution_count": 3,
   "id": "95d2b2ce-1864-4499-a4c0-63bc9d5af7a4",
   "metadata": {},
   "outputs": [],
   "source": [
    "#Renaming columns and reducing down the dataframes to only the required columns\n",
    "iShares_World = iShares_World.rename(columns={\"Close\": \"iShares_World_Close\"})\n",
    "iShares_SNP500 = iShares_SNP500.rename(columns={\"Close\": \"iShares_SNP500_Close\"})\n",
    "Vanguard_Global_Bond = Vanguard_Global_Bond.rename(columns={\"Close\": \"Vanguard_Global_Bond_Close\"})\n",
    "BoE_Rate = BoE_Rate.rename(columns={\"Rate\": \"BoE_Rate\"})\n",
    "\n",
    "iShares_World = iShares_World[\"iShares_World_Close\"]\n",
    "iShares_SNP500 = iShares_SNP500[\"iShares_SNP500_Close\"]\n",
    "Vanguard_Global_Bond = Vanguard_Global_Bond[ \"Vanguard_Global_Bond_Close\"]\n"
   ]
  },
  {
   "cell_type": "code",
   "execution_count": 4,
   "id": "3aff7c93-a748-454e-a2ee-ffbbdbd86673",
   "metadata": {},
   "outputs": [],
   "source": [
    "#Merging the dataframes into one and removing commas from the numbers\n",
    "merged = pd.merge(iShares_World,iShares_SNP500,on=\"Date\")\n",
    "merged = pd.merge(merged,Vanguard_Global_Bond,on=\"Date\")\n",
    "merged = pd.merge(merged,BoE_Rate,on=\"Date\")\n",
    "\n",
    "merged = merged.replace(',','', regex=True)"
   ]
  },
  {
   "cell_type": "code",
   "execution_count": 5,
   "id": "be5aeebe-423c-45d2-acd5-68f77436fece",
   "metadata": {},
   "outputs": [
    {
     "data": {
      "text/plain": [
       "iShares_World_Close            object\n",
       "iShares_SNP500_Close           object\n",
       "Vanguard_Global_Bond_Close    float64\n",
       "BoE_Rate                      float64\n",
       "dtype: object"
      ]
     },
     "execution_count": 5,
     "metadata": {},
     "output_type": "execute_result"
    }
   ],
   "source": [
    "#Checking the data types\n",
    "merged.dtypes"
   ]
  },
  {
   "cell_type": "code",
   "execution_count": 6,
   "id": "8879ec98-87c6-4cee-88a1-33a204ae16ca",
   "metadata": {},
   "outputs": [
    {
     "data": {
      "text/plain": [
       "iShares_World_Close           float64\n",
       "iShares_SNP500_Close          float64\n",
       "Vanguard_Global_Bond_Close    float64\n",
       "BoE_Rate                      float64\n",
       "dtype: object"
      ]
     },
     "execution_count": 6,
     "metadata": {},
     "output_type": "execute_result"
    }
   ],
   "source": [
    "#Changing objects to float variables and checking\n",
    "merged[[\"iShares_World_Close\", \"iShares_SNP500_Close\"]]=merged[[\"iShares_World_Close\", \"iShares_SNP500_Close\"]].astype(float)\n",
    "merged.dtypes"
   ]
  },
  {
   "cell_type": "markdown",
   "id": "07a39f42-4a1f-452a-9d63-0286616db613",
   "metadata": {},
   "source": [
    "### Creating our functions\n",
    "Below we have our 3 functions, the first simulates a monthly investment of £100 over 10 years, the second £1200 per year and the final is again a monthly investment but rebalancing the portfolio at the start of each year"
   ]
  },
  {
   "cell_type": "code",
   "execution_count": 7,
   "id": "ce99bda2-85e7-4704-a580-def06ee49708",
   "metadata": {},
   "outputs": [],
   "source": [
    "#Setting our desired date range and creating a list of the 1st of Jan of each year to use in our functions\n",
    "date_range = pd.date_range('2015-01-01', '2024-12-31', freq='MS')\n",
    "year_starts = pd.date_range('2015-01-01', '2024-12-31', freq='YS')"
   ]
  },
  {
   "cell_type": "code",
   "execution_count": 8,
   "id": "3a667d85-c08e-4c8c-921f-09fc96993ef5",
   "metadata": {},
   "outputs": [],
   "source": [
    "#Next we create a fuction to simulate our investment, our function takes inputs of the proportion of the investment going into each asset, \n",
    "#then invests £100 per month at these proportions for 10 years from the start of 2005 to then end of 2024\n",
    "\n",
    "def invest_monthly(iShares_World_prop,iShares_SNP500_prop,Vanguard_Global_Bond_prop,Cash_prop):\n",
    "\n",
    "    #Creating our variables and zeroing them off\n",
    "    total_shares = 0\n",
    "    total_invested = 0\n",
    "    iShares_World_total_shares = 0\n",
    "    iShares_SNP500_total_shares = 0\n",
    "    Vanguard_Global_Bond_total_shares = 0\n",
    "    Cash_total = 0\n",
    "    df = pd.DataFrame({'Date': [], 'iShares_World_Value': [], 'iShares_SNP500_Value': [],\n",
    "                       \"Vanguard_Global_Bond_Value\":[],\"Cash_total\":[], \"Total_Value\":[]}).set_index(\"Date\")\n",
    "    \n",
    "    #Next we cycle throuch all the dates, extracing the close price on each date (month starts) and calculating the new amount of shares + value\n",
    "    for date in date_range:\n",
    "        #iShares World\n",
    "        iShares_World_current_close = merged.loc[date,\"iShares_World_Close\"]\n",
    "        iShares_World_total_shares =  iShares_World_total_shares + (100*iShares_World_prop/iShares_World_current_close)\n",
    "        iShares_World_Value = iShares_World_total_shares*iShares_World_current_close\n",
    "        \n",
    "        #iShares SNP500\n",
    "        iShares_SNP500_current_close = merged.loc[date,\"iShares_SNP500_Close\"]\n",
    "        iShares_SNP500_total_shares =  iShares_SNP500_total_shares + (100*iShares_SNP500_prop/iShares_SNP500_current_close)\n",
    "        iShares_SNP500_Value = iShares_SNP500_total_shares * iShares_SNP500_current_close\n",
    "        \n",
    "        #Vanguard\n",
    "        Vanguard_Global_Bond_current_close = merged.loc[date,\"Vanguard_Global_Bond_Close\"]\n",
    "        Vanguard_Global_Bond_total_shares =  Vanguard_Global_Bond_total_shares + (100*Vanguard_Global_Bond_prop/Vanguard_Global_Bond_current_close)\n",
    "        Vanguard_Global_Bond_Value = Vanguard_Global_Bond_total_shares*Vanguard_Global_Bond_current_close\n",
    "        \n",
    "        #For cash we apply the bank of England base rate (divided by 12 being monthly)\n",
    "        BoE_current_rate = merged.loc[date,\"BoE_Rate\"]\n",
    "        BoE_current_rate_monthly = BoE_current_rate/12\n",
    "        Cash_total = (100*Cash_prop) + (BoE_current_rate_monthly*Cash_total/100) + Cash_total\n",
    "        Total_Value=(iShares_World_total_shares*iShares_World_current_close + \n",
    "                     iShares_SNP500_total_shares*iShares_SNP500_current_close + \n",
    "                     Vanguard_Global_Bond_total_shares*Vanguard_Global_Bond_current_close + Cash_total)\n",
    "    \n",
    "        #Creating a new row and adding it to the bottom of our new datafram\n",
    "        newrow = pd.DataFrame({'Date': [date], 'iShares_World_Value': [iShares_World_Value], 'iShares_SNP500_Value': [iShares_SNP500_Value],\n",
    "        \"Vanguard_Global_Bond_Value\":[Vanguard_Global_Bond_Value],\"Cash_total\":[Cash_total], \"Total_Value\": [Total_Value]}).set_index(\"Date\")\n",
    "        df = pd.concat([df, newrow])\n",
    "   \n",
    "    #Returning a dataframe with all the values\n",
    "    results = df\n",
    "    return results\n",
    "\n"
   ]
  },
  {
   "cell_type": "code",
   "execution_count": 10,
   "id": "03ff3e8b-aa97-493e-a45e-7ff0e3fd570e",
   "metadata": {},
   "outputs": [],
   "source": [
    "#Similar again to monthly invest, we use an if statement to check if its a year start, then invest £1200, otherwise nothing is invested\n",
    "def invest_yearly(iShares_World_prop,iShares_SNP500_prop,Vanguard_Global_Bond_prop,Cash_prop):\n",
    "\n",
    "    total_shares = 0\n",
    "    total_invested = 0\n",
    "    \n",
    "    iShares_World_total_shares = 0\n",
    "    iShares_SNP500_total_shares = 0\n",
    "    Vanguard_Global_Bond_total_shares = 0\n",
    "    Cash_total = 0\n",
    "    Total_Value = 0\n",
    "    \n",
    "    df = pd.DataFrame({'Date': [], 'iShares_World_Value': [], 'iShares_SNP500_Value': [],\n",
    "                       \"Vanguard_Global_Bond_Value\":[],\"Cash_total\":[], \"Total_Value\":[]}).set_index(\"Date\")\n",
    "    \n",
    "    \n",
    "    for date in date_range:\n",
    "        if date in year_starts:\n",
    "            #iShares World\n",
    "            iShares_World_current_close = merged.loc[date,\"iShares_World_Close\"]\n",
    "            iShares_World_total_shares =  iShares_World_total_shares + (1200*iShares_World_prop/iShares_World_current_close)\n",
    "            iShares_World_Value = iShares_World_total_shares*iShares_World_current_close\n",
    "            \n",
    "            #iShares SNP500\n",
    "            iShares_SNP500_current_close = merged.loc[date,\"iShares_SNP500_Close\"]\n",
    "            iShares_SNP500_total_shares =  iShares_SNP500_total_shares + (1200*iShares_SNP500_prop/iShares_SNP500_current_close)\n",
    "            iShares_SNP500_Value = iShares_SNP500_total_shares * iShares_SNP500_current_close\n",
    "            \n",
    "            #Vanguard Global Bond\n",
    "            Vanguard_Global_Bond_current_close = merged.loc[date,\"Vanguard_Global_Bond_Close\"]\n",
    "            Vanguard_Global_Bond_total_shares =  Vanguard_Global_Bond_total_shares + (1200*Vanguard_Global_Bond_prop/Vanguard_Global_Bond_current_close)\n",
    "            Vanguard_Global_Bond_Value = Vanguard_Global_Bond_total_shares*Vanguard_Global_Bond_current_close\n",
    "            \n",
    "            #Cash\n",
    "            BoE_current_rate = merged.loc[date,\"BoE_Rate\"]\n",
    "            BoE_current_rate_monthly = BoE_current_rate/12\n",
    "            Cash_total = (1200*Cash_prop) + (BoE_current_rate_monthly*Cash_total/100) + Cash_total\n",
    "        else:\n",
    "            #iShares World\n",
    "            iShares_World_current_close = merged.loc[date,\"iShares_World_Close\"]\n",
    "            iShares_World_Value = iShares_World_total_shares*iShares_World_current_close\n",
    "            \n",
    "            #iShares SNP500\n",
    "            iShares_SNP500_current_close = merged.loc[date,\"iShares_SNP500_Close\"]\n",
    "            iShares_SNP500_Value = iShares_SNP500_total_shares * iShares_SNP500_current_close\n",
    "            \n",
    "            #Vanguard Global Bond\n",
    "            Vanguard_Global_Bond_current_close = merged.loc[date,\"Vanguard_Global_Bond_Close\"]\n",
    "            Vanguard_Global_Bond_Value = Vanguard_Global_Bond_total_shares*Vanguard_Global_Bond_current_close\n",
    "            \n",
    "            #Cash\n",
    "            BoE_current_rate = merged.loc[date,\"BoE_Rate\"]\n",
    "            BoE_current_rate_monthly = BoE_current_rate/12\n",
    "            Cash_total = (BoE_current_rate_monthly*Cash_total/100) + Cash_total            \n",
    "        \n",
    "        Total_Value=(iShares_World_total_shares*iShares_World_current_close + \n",
    "                         iShares_SNP500_total_shares*iShares_SNP500_current_close + \n",
    "                         Vanguard_Global_Bond_total_shares*Vanguard_Global_Bond_current_close + Cash_total)\n",
    "        newrow = pd.DataFrame({'Date': [date], 'iShares_World_Value': [iShares_World_Value], 'iShares_SNP500_Value': [iShares_SNP500_Value],\n",
    "                                \"Vanguard_Global_Bond_Value\":[Vanguard_Global_Bond_Value],\"Cash_total\":[Cash_total], \n",
    "                               \"Total_Value\": [Total_Value]}).set_index(\"Date\")        \n",
    "        df = pd.concat([df, newrow])\n",
    "   \n",
    "    results = df\n",
    "    return results\n",
    "\n"
   ]
  },
  {
   "cell_type": "code",
   "execution_count": 9,
   "id": "47ec82b5-0fb5-4073-ba21-4121fa695e91",
   "metadata": {},
   "outputs": [],
   "source": [
    "#Repeat the same but rebalancing yearly, all we add is an if statement which once a year will in essence sell all the shares\n",
    "#then reinvest at the original inputted proportions\n",
    "def rebalancing_yearly(iShares_World_prop,iShares_SNP500_prop,Vanguard_Global_Bond_prop,Cash_prop):\n",
    "\n",
    "    total_shares = 0\n",
    "    total_invested = 0\n",
    "    \n",
    "    iShares_World_total_shares = 0\n",
    "    iShares_SNP500_total_shares = 0\n",
    "    Vanguard_Global_Bond_total_shares = 0\n",
    "    Cash_total = 0\n",
    "    Total_Value = 0\n",
    "    \n",
    "    df = pd.DataFrame({'Date': [], 'iShares_World_Value': [], 'iShares_SNP500_Value': [],\n",
    "                       \"Vanguard_Global_Bond_Value\":[],\"Cash_total\":[], \"Total_Value\":[]}).set_index(\"Date\")\n",
    "    \n",
    "    \n",
    "    for date in date_range:\n",
    "        if date in year_starts:\n",
    "            #iShares World\n",
    "            iShares_World_current_close = merged.loc[date,\"iShares_World_Close\"]\n",
    "            iShares_World_total_shares =  (Total_Value+100)*iShares_World_prop/iShares_World_current_close\n",
    "            iShares_World_Value = iShares_World_total_shares*iShares_World_current_close\n",
    "            \n",
    "            #iShares SNP500\n",
    "            iShares_SNP500_current_close = merged.loc[date,\"iShares_SNP500_Close\"]\n",
    "            iShares_SNP500_total_shares =  (Total_Value + 100)*iShares_SNP500_prop/iShares_SNP500_current_close\n",
    "            iShares_SNP500_Value = iShares_SNP500_total_shares * iShares_SNP500_current_close\n",
    "            \n",
    "            #Vanguard\n",
    "            Vanguard_Global_Bond_current_close = merged.loc[date,\"Vanguard_Global_Bond_Close\"]\n",
    "            Vanguard_Global_Bond_total_shares = (Total_Value + 100)*Vanguard_Global_Bond_prop/Vanguard_Global_Bond_current_close\n",
    "            Vanguard_Global_Bond_Value = Vanguard_Global_Bond_total_shares*Vanguard_Global_Bond_current_close\n",
    "            \n",
    "            #Cash\n",
    "            BoE_current_rate = merged.loc[date,\"BoE_Rate\"]\n",
    "            BoE_current_rate_monthly = BoE_current_rate/12\n",
    "            Cash_total = (100+Total_Value)*Cash_prop\n",
    "\n",
    "        else:\n",
    "            #iShares World\n",
    "            iShares_World_current_close = merged.loc[date,\"iShares_World_Close\"]\n",
    "            iShares_World_total_shares =  iShares_World_total_shares + (100*iShares_World_prop/iShares_World_current_close)\n",
    "            iShares_World_Value = iShares_World_total_shares*iShares_World_current_close\n",
    "            \n",
    "            #iShares SNP500\n",
    "            iShares_SNP500_current_close = merged.loc[date,\"iShares_SNP500_Close\"]\n",
    "            iShares_SNP500_total_shares =  iShares_SNP500_total_shares + (100*iShares_SNP500_prop/iShares_SNP500_current_close)\n",
    "            iShares_SNP500_Value = iShares_SNP500_total_shares * iShares_SNP500_current_close\n",
    "            \n",
    "            #Vanguard\n",
    "            Vanguard_Global_Bond_current_close = merged.loc[date,\"Vanguard_Global_Bond_Close\"]\n",
    "            Vanguard_Global_Bond_total_shares =  Vanguard_Global_Bond_total_shares + (100*Vanguard_Global_Bond_prop/Vanguard_Global_Bond_current_close)\n",
    "            Vanguard_Global_Bond_Value = Vanguard_Global_Bond_total_shares*Vanguard_Global_Bond_current_close\n",
    "            \n",
    "            #Cash\n",
    "            BoE_current_rate = merged.loc[date,\"BoE_Rate\"]\n",
    "            BoE_current_rate_monthly = BoE_current_rate/12\n",
    "            Cash_total = (100*Cash_prop) + (BoE_current_rate_monthly*Cash_total/100) + Cash_total\n",
    "        \n",
    "        Total_Value=(iShares_World_total_shares*iShares_World_current_close + \n",
    "                         iShares_SNP500_total_shares*iShares_SNP500_current_close + \n",
    "                         Vanguard_Global_Bond_total_shares*Vanguard_Global_Bond_current_close + Cash_total)\n",
    "        newrow = pd.DataFrame({'Date': [date], 'iShares_World_Value': [iShares_World_Value], 'iShares_SNP500_Value': [iShares_SNP500_Value],\n",
    "            \"Vanguard_Global_Bond_Value\":[Vanguard_Global_Bond_Value],\"Cash_total\":[Cash_total], \"Total_Value\": [Total_Value]}).set_index(\"Date\")        \n",
    "        df = pd.concat([df, newrow])\n",
    "   \n",
    "    results = df\n",
    "    return results\n",
    "\n"
   ]
  },
  {
   "cell_type": "markdown",
   "id": "0ec9d10b-da36-4db4-89d4-4e7d23a942e9",
   "metadata": {},
   "source": [
    "### Running our functions and returning results\n",
    "Next we create 4 options for porfolios and run these inside of our functions\n"
   ]
  },
  {
   "cell_type": "code",
   "execution_count": 11,
   "id": "7255a22c-ae42-4ad1-8900-2cf0af70dd83",
   "metadata": {},
   "outputs": [
    {
     "data": {
      "text/html": [
       "<div>\n",
       "<style scoped>\n",
       "    .dataframe tbody tr th:only-of-type {\n",
       "        vertical-align: middle;\n",
       "    }\n",
       "\n",
       "    .dataframe tbody tr th {\n",
       "        vertical-align: top;\n",
       "    }\n",
       "\n",
       "    .dataframe thead th {\n",
       "        text-align: right;\n",
       "    }\n",
       "</style>\n",
       "<table border=\"1\" class=\"dataframe\">\n",
       "  <thead>\n",
       "    <tr style=\"text-align: right;\">\n",
       "      <th></th>\n",
       "      <th>iShares_World_prop</th>\n",
       "      <th>Vanguard_Global_Bond_prop</th>\n",
       "      <th>Cash_prop</th>\n",
       "    </tr>\n",
       "  </thead>\n",
       "  <tbody>\n",
       "    <tr>\n",
       "      <th>0</th>\n",
       "      <td>0.45</td>\n",
       "      <td>0.45</td>\n",
       "      <td>0.1</td>\n",
       "    </tr>\n",
       "    <tr>\n",
       "      <th>1</th>\n",
       "      <td>0.60</td>\n",
       "      <td>0.30</td>\n",
       "      <td>0.1</td>\n",
       "    </tr>\n",
       "    <tr>\n",
       "      <th>2</th>\n",
       "      <td>0.70</td>\n",
       "      <td>0.20</td>\n",
       "      <td>0.1</td>\n",
       "    </tr>\n",
       "    <tr>\n",
       "      <th>3</th>\n",
       "      <td>0.80</td>\n",
       "      <td>0.10</td>\n",
       "      <td>0.1</td>\n",
       "    </tr>\n",
       "  </tbody>\n",
       "</table>\n",
       "</div>"
      ],
      "text/plain": [
       "   iShares_World_prop  Vanguard_Global_Bond_prop  Cash_prop\n",
       "0                0.45                       0.45        0.1\n",
       "1                0.60                       0.30        0.1\n",
       "2                0.70                       0.20        0.1\n",
       "3                0.80                       0.10        0.1"
      ]
     },
     "execution_count": 11,
     "metadata": {},
     "output_type": "execute_result"
    }
   ],
   "source": [
    "#Creating a dataframe of 4 porfolio weightings\n",
    "Proportions_df = pd.DataFrame({\"iShares_World_prop\": [0.45, 0.6, 0.7,0.8], \n",
    "                               \"Vanguard_Global_Bond_prop\": [0.45, 0.3, 0.2, 0.1], \"Cash_prop\":[0.1,0.1,0.1, 0.1]})\n",
    "Proportions_df"
   ]
  },
  {
   "cell_type": "code",
   "execution_count": 12,
   "id": "99ed6d11-d93a-4f41-9454-5fafef024c7b",
   "metadata": {},
   "outputs": [],
   "source": [
    "#We want to run our invest monthly fuction with each of these 4 portfolios\n",
    "\n",
    "#For ease we create the first row of results first with the weights at row indexed 0\n",
    "first_row_data = invest_monthly(Proportions_df.iloc[0][0], 0, Proportions_df.iloc[0][1], Proportions_df.iloc[0][2])\n",
    "results_df = pd.DataFrame(first_row_data.tail(1))\n",
    "\n",
    "#Then we cycle through the remaining rows\n",
    "for i in range(1, len(Proportions_df)):\n",
    "    data = invest_monthly(Proportions_df.iloc[i][0], 0, Proportions_df.iloc[i][1], Proportions_df.iloc[i][2])\n",
    "    newrow = data.tail(1)\n",
    "\n",
    "    #Adding each row to our results in results_df\n",
    "    results_df = pd.concat([results_df, newrow])\n",
    "\n",
    "#New we drop the unwanted column, reset the index and merge with the proportions dataframe to create our results with the associated weightings\n",
    "results_df = results_df.drop(columns =[\"iShares_SNP500_Value\"])\n",
    "results_df = results_df.reset_index(drop=True)\n",
    "invest_monthly_results = pd.merge(results_df, Proportions_df, left_index=True, right_index=True)"
   ]
  },
  {
   "cell_type": "code",
   "execution_count": 13,
   "id": "938899e1-3216-4f6c-9efc-6fac58275889",
   "metadata": {},
   "outputs": [],
   "source": [
    "#Same again but repeated with our rebalancing formula\n",
    "first_row_data = rebalancing_yearly(Proportions_df.iloc[0][0], 0, Proportions_df.iloc[0][1], Proportions_df.iloc[0][2])\n",
    "results_df = pd.DataFrame(first_row_data.tail(1))\n",
    "\n",
    "\n",
    "for i in range(1, len(Proportions_df)):\n",
    "    data = rebalancing_yearly(Proportions_df.iloc[i][0], 0, Proportions_df.iloc[i][1], Proportions_df.iloc[i][2])\n",
    "    newrow = data.tail(1)\n",
    "\n",
    "\n",
    "    results_df = pd.concat([results_df, newrow])\n",
    "\n",
    "results_df = results_df.drop(columns =[\"iShares_SNP500_Value\"])\n",
    "results_df = results_df.reset_index(drop=True)\n",
    "yearly_rebalance_results = pd.merge(results_df, Proportions_df, left_index=True, right_index=True)"
   ]
  },
  {
   "cell_type": "markdown",
   "id": "3c3da809-278c-4ac0-a584-4cdd7597ea0f",
   "metadata": {},
   "source": [
    "### Creating a normalised dataset\n",
    "\n",
    "For our Power BI analysis it is helpful to have a normalised set of data, based on our original imported dataset of our indicied and how they performed"
   ]
  },
  {
   "cell_type": "code",
   "execution_count": 15,
   "id": "0a16226e-ce83-4f65-9e61-a33fe3c75059",
   "metadata": {},
   "outputs": [],
   "source": [
    "#Creating a normalied dataset from our original data to be used in graphs later\n",
    "\n",
    "#Restricting to our desired dates and columns\n",
    "merged = merged.loc[date_range]\n",
    "merged = merged.drop(columns = [\"BoE_Rate\"])\n",
    "\n",
    "#Next we create our normalised data\n",
    "normalised_dataset = pd.DataFrame([])\n",
    "\n",
    "for column in [\"iShares_World_Close\",\t\"iShares_SNP500_Close\",\t\"Vanguard_Global_Bond_Close\"]:\n",
    "    #Cycling through each column, we divide by the first entry in each column so all the assets start at 1\n",
    "    normalised_dataset[column] = merged[column] / merged[column][0]\n"
   ]
  },
  {
   "cell_type": "markdown",
   "id": "8b1d16a2-5bbf-4b10-be43-9b974f342b93",
   "metadata": {},
   "source": [
    "### Exporting our results"
   ]
  },
  {
   "cell_type": "code",
   "execution_count": 14,
   "id": "e5fcb2d0-721d-430a-a2ff-9e8ee165e0d8",
   "metadata": {},
   "outputs": [],
   "source": [
    "#Exporting our results to csv files\n",
    "yearly_rebalance_results.to_csv(\"Exported_Data//Yearly Rebalanced Results.csv\")\n",
    "invest_monthly_results.to_csv(\"Exported_Data//Invest Monthly Results.csv\")"
   ]
  },
  {
   "cell_type": "code",
   "execution_count": 16,
   "id": "7f114f3a-e524-4284-ac3b-949dd8d69088",
   "metadata": {},
   "outputs": [],
   "source": [
    "#Exporting our normalised data to a csv file\n",
    "normalised_dataset.to_csv(\"Exported_Data//Normalised Diverse Portfolio.csv\")"
   ]
  }
 ],
 "metadata": {
  "kernelspec": {
   "display_name": "Python 3 (ipykernel)",
   "language": "python",
   "name": "python3"
  },
  "language_info": {
   "codemirror_mode": {
    "name": "ipython",
    "version": 3
   },
   "file_extension": ".py",
   "mimetype": "text/x-python",
   "name": "python",
   "nbconvert_exporter": "python",
   "pygments_lexer": "ipython3",
   "version": "3.11.9"
  }
 },
 "nbformat": 4,
 "nbformat_minor": 5
}
